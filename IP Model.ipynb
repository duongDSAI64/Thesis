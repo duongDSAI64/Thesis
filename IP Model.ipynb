{
 "cells": [
  {
   "cell_type": "code",
   "execution_count": 1,
   "id": "8755dff0",
   "metadata": {},
   "outputs": [],
   "source": [
    "import pandas as pd\n",
    "import polars as pl\n",
    "import numpy as np\n",
    "from ortools.linear_solver import pywraplp"
   ]
  },
  {
   "cell_type": "code",
   "execution_count": 2,
   "id": "a3e30118",
   "metadata": {},
   "outputs": [],
   "source": [
    "solver = pywraplp.Solver.CreateSolver('SCIP')"
   ]
  },
  {
   "cell_type": "code",
   "execution_count": 3,
   "id": "193c6ba9",
   "metadata": {},
   "outputs": [
    {
     "data": {
      "text/plain": [
       "0"
      ]
     },
     "execution_count": 3,
     "metadata": {},
     "output_type": "execute_result"
    }
   ],
   "source": [
    "x = np.empty(shape=(10), dtype=object)\n",
    "\n",
    "for i in range(10):\n",
    "    x[i] = solver.IntVar(0, 1, f'x[{i}]')\n",
    "    \n",
    "A = [1,2,3,4,5,6,7,8,9,-10]\n",
    "    \n",
    "solver.Maximize(np.sum(x*A))\n",
    "solver.Solve()"
   ]
  },
  {
   "cell_type": "code",
   "execution_count": 4,
   "id": "92348004",
   "metadata": {},
   "outputs": [
    {
     "name": "stdout",
     "output_type": "stream",
     "text": [
      "[x[0] x[1] x[2] x[3] x[4] x[5] x[6] x[7] x[8] x[9]]\n"
     ]
    }
   ],
   "source": [
    "print(x)"
   ]
  },
  {
   "cell_type": "code",
   "execution_count": 5,
   "id": "6826b008",
   "metadata": {},
   "outputs": [],
   "source": [
    "sol = []\n",
    "for i in x:\n",
    "    sol.append(i.solution_value())"
   ]
  },
  {
   "cell_type": "code",
   "execution_count": 6,
   "id": "d4fc6120",
   "metadata": {},
   "outputs": [
    {
     "data": {
      "text/plain": [
       "[1.0, 1.0, 1.0, 1.0, 1.0, 1.0, 1.0, 1.0, 1.0, 0.0]"
      ]
     },
     "execution_count": 6,
     "metadata": {},
     "output_type": "execute_result"
    }
   ],
   "source": [
    "sol"
   ]
  },
  {
   "cell_type": "code",
   "execution_count": 7,
   "id": "5997c5ec",
   "metadata": {},
   "outputs": [
    {
     "data": {
      "text/plain": [
       "45.0"
      ]
     },
     "execution_count": 7,
     "metadata": {},
     "output_type": "execute_result"
    }
   ],
   "source": [
    "solver.Objective().Value()"
   ]
  },
  {
   "cell_type": "code",
   "execution_count": 8,
   "id": "09c08044",
   "metadata": {},
   "outputs": [],
   "source": [
    "example = np.array([[6, 0, 0, 1, 0, 1, 0, 2, 0, 1],\n",
    "                    [0, 0, 1, 0, 0, 2, 1, 0, 0, 0],\n",
    "                    [1, 0, 0, 0, 0, 1, 0, 0, 2, 0],\n",
    "                    [0, 0, 0, 0, 0, 1, 0, 0, 0, 1],\n",
    "                    [0, 1, 2, 0, 5, 0, 1, 0, 0, 1],\n",
    "                    [1, 0, 0, 0, 1, 1, 0, 0, 0, 0],\n",
    "                    [2, 0, 0, 0, 0, 0, 3, 0, 1, 0],\n",
    "                    [1, 0, 1, 1, 0, 0, 0, 2, 0, 2],\n",
    "                    [0, 0, 0, 0, 0, 1, 0, 0, 0, 0],\n",
    "                    [0, 2, 0, 2, 0, 0, 1, 0, 0, 3]])"
   ]
  },
  {
   "cell_type": "code",
   "execution_count": 9,
   "id": "b2fd51e3",
   "metadata": {},
   "outputs": [
    {
     "data": {
      "text/plain": [
       "array([[6, 0, 0, 1, 0, 1, 0, 2, 0, 1],\n",
       "       [0, 0, 1, 0, 0, 2, 1, 0, 0, 0],\n",
       "       [1, 0, 0, 0, 0, 1, 0, 0, 2, 0],\n",
       "       [0, 0, 0, 0, 0, 1, 0, 0, 0, 1],\n",
       "       [0, 1, 2, 0, 5, 0, 1, 0, 0, 1],\n",
       "       [1, 0, 0, 0, 1, 1, 0, 0, 0, 0],\n",
       "       [2, 0, 0, 0, 0, 0, 3, 0, 1, 0],\n",
       "       [1, 0, 1, 1, 0, 0, 0, 2, 0, 2],\n",
       "       [0, 0, 0, 0, 0, 1, 0, 0, 0, 0],\n",
       "       [0, 2, 0, 2, 0, 0, 1, 0, 0, 3]])"
      ]
     },
     "execution_count": 9,
     "metadata": {},
     "output_type": "execute_result"
    }
   ],
   "source": [
    "example[0:11]"
   ]
  },
  {
   "cell_type": "code",
   "execution_count": 14,
   "id": "e86251c9",
   "metadata": {},
   "outputs": [
    {
     "ename": "MemoryError",
     "evalue": "Unable to allocate 682. GiB for an array with shape (550, 550, 550, 550) and data type float64",
     "output_type": "error",
     "traceback": [
      "\u001b[1;31m---------------------------------------------------------------------------\u001b[0m",
      "\u001b[1;31mMemoryError\u001b[0m                               Traceback (most recent call last)",
      "Cell \u001b[1;32mIn[14], line 1\u001b[0m\n\u001b[1;32m----> 1\u001b[0m X \u001b[38;5;241m=\u001b[39m \u001b[43mnp\u001b[49m\u001b[38;5;241;43m.\u001b[39;49m\u001b[43mzeros\u001b[49m\u001b[43m(\u001b[49m\u001b[43m(\u001b[49m\u001b[38;5;241;43m550\u001b[39;49m\u001b[43m,\u001b[49m\u001b[43m \u001b[49m\u001b[38;5;241;43m550\u001b[39;49m\u001b[43m,\u001b[49m\u001b[43m \u001b[49m\u001b[38;5;241;43m550\u001b[39;49m\u001b[43m,\u001b[49m\u001b[43m \u001b[49m\u001b[38;5;241;43m550\u001b[39;49m\u001b[43m)\u001b[49m\u001b[43m)\u001b[49m\n",
      "\u001b[1;31mMemoryError\u001b[0m: Unable to allocate 682. GiB for an array with shape (550, 550, 550, 550) and data type float64"
     ]
    }
   ],
   "source": [
    "X = np.zeros((550, 550, 550, 550))\n"
   ]
  },
  {
   "cell_type": "code",
   "execution_count": 11,
   "id": "efc4feaf",
   "metadata": {},
   "outputs": [],
   "source": [
    "for i in range(10):\n",
    "    for j in range(10):\n",
    "        for k in range(10):\n",
    "            for l in range(10):\n",
    "                if j<i or l<k:\n",
    "                    X[i,j,k,l] = 0\n",
    "                else:\n",
    "                    X[i,j,k,l] = np.sum(example[i:j+1,k:l+1])"
   ]
  },
  {
   "cell_type": "code",
   "execution_count": 12,
   "id": "c4adbcdc",
   "metadata": {},
   "outputs": [
    {
     "data": {
      "text/plain": [
       "56.0"
      ]
     },
     "execution_count": 12,
     "metadata": {},
     "output_type": "execute_result"
    }
   ],
   "source": [
    "X[0,9,0,9]"
   ]
  },
  {
   "cell_type": "code",
   "execution_count": 13,
   "id": "f6336743",
   "metadata": {},
   "outputs": [
    {
     "data": {
      "text/plain": [
       "56"
      ]
     },
     "execution_count": 13,
     "metadata": {},
     "output_type": "execute_result"
    }
   ],
   "source": [
    "np.sum(example[0:10,0:10])"
   ]
  },
  {
   "cell_type": "code",
   "execution_count": null,
   "id": "4ade458d",
   "metadata": {},
   "outputs": [],
   "source": []
  }
 ],
 "metadata": {
  "kernelspec": {
   "display_name": "Python 3 (ipykernel)",
   "language": "python",
   "name": "python3"
  },
  "language_info": {
   "codemirror_mode": {
    "name": "ipython",
    "version": 3
   },
   "file_extension": ".py",
   "mimetype": "text/x-python",
   "name": "python",
   "nbconvert_exporter": "python",
   "pygments_lexer": "ipython3",
   "version": "3.10.10"
  }
 },
 "nbformat": 4,
 "nbformat_minor": 5
}
