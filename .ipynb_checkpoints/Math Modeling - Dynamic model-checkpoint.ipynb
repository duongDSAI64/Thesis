{
 "cells": [
  {
   "cell_type": "code",
   "execution_count": 21,
   "id": "d653a8c8",
   "metadata": {},
   "outputs": [
    {
     "name": "stdout",
     "output_type": "stream",
     "text": [
      "The winner is Blue side.\n",
      "The battle duration is 39 days.\n",
      "The number of divisions remaining on the winning side: 2.231077834757012\n"
     ]
    },
    {
     "data": {
      "image/png": "[encoded data removed]",
      "text/plain": [
       "<Figure size 640x480 with 1 Axes>"
      ]
     },
     "metadata": {},
     "output_type": "display_data"
    },
    {
     "name": "stdout",
     "output_type": "stream",
     "text": [
      "------------------------------\n",
      "Results:\n",
      "Weather\t\tWinner\t\tDuration\tDivisions on Winning Side\n",
      "0.1\t\tBlue\t\t102\t\t1.3409112133034908\n",
      "0.2\t\tBlue\t\t49\t\t2.0340511136393284\n",
      "0.5\t\tBlue\t\t20\t\t2.719172865161405\n",
      "0.75\t\tBlue\t\t13\t\t2.9085139699968887\n",
      "0.9\t\tBlue\t\t11\t\t2.968915140199819\n",
      "-------------------------------\n",
      "\n",
      "Sensitivity Analysis:\n",
      "Superiority\t\tWeather\t\tWinner\t\tDuration\tDivisions on Winning Side\n",
      "1.5\t\t\t0.1\t\tBlue\t\t58\t\t3.300420596819031\n",
      "1.5\t\t\t0.2\t\tBlue\t\t34\t\t3.6214650337197347\n",
      "1.5\t\t\t0.5\t\tBlue\t\t16\t\t3.936032096705167\n",
      "1.5\t\t\t0.75\t\tBlue\t\t11\t\t4.020498898938654\n",
      "1.5\t\t\t0.9\t\tBlue\t\t9\t\t4.048827721718597\n",
      "2.0\t\t\t0.1\t\tBlue\t\t66\t\t2.696761014432127\n",
      "2.0\t\t\t0.2\t\tBlue\t\t38\t\t3.1275198984308847\n",
      "2.0\t\t\t0.5\t\tBlue\t\t17\t\t3.5536932683863465\n",
      "2.0\t\t\t0.75\t\tBlue\t\t12\t\t3.6696509069009533\n",
      "2.0\t\t\t0.9\t\tBlue\t\t10\t\t3.7057072440522085\n",
      "4.0\t\t\t0.1\t\tRed\t\t107\t\t0.513384576801555\n",
      "4.0\t\t\t0.2\t\tBlue\t\t113\t\t0.3667211964978403\n",
      "4.0\t\t\t0.5\t\tBlue\t\t26\t\t1.7006545030189868\n",
      "4.0\t\t\t0.75\t\tBlue\t\t16\t\t2.0049826776860744\n",
      "4.0\t\t\t0.9\t\tBlue\t\t13\t\t2.105675064959961\n",
      "5.0\t\t\t0.1\t\tRed\t\t61\t\t0.8979694332130509\n",
      "5.0\t\t\t0.2\t\tRed\t\t46\t\t0.7477245450924171\n",
      "5.0\t\t\t0.5\t\tRed\t\t36\t\t0.3359660309928718\n",
      "5.0\t\t\t0.75\t\tBlue\t\t28\t\t0.5793074996608493\n",
      "5.0\t\t\t0.9\t\tBlue\t\t20\t\t0.84904912549764\n"
     ]
    }
   ],
   "source": [
    "import numpy as np\n",
    "import matplotlib.pyplot as plt\n",
    "\n",
    "def simulate_combat(w, superiority):\n",
    "    x1 = 5  # Initial number of divisions for the blue side\n",
    "    x2 = 2  # Initial number of divisions for the red side\n",
    "    battle_duration = 0\n",
    "    X1_set = []\n",
    "    X2_set = []\n",
    "    while x1 > 0 and x2 > 0:\n",
    "        delta_x1 = -w * (0.05 * x2) - (0.005 * x1 * x2)\n",
    "        delta_x2 = -w * (0.05 * x1) - (0.005 * x1 * x2)\n",
    "\n",
    "        x1 += delta_x1 * superiority\n",
    "        x2 += delta_x2\n",
    "        \n",
    "        X1_set.append(x1)\n",
    "        X2_set.append(x2)\n",
    "        \n",
    "        battle_duration += 1\n",
    "\n",
    "    return x1, x2, battle_duration, X1_set, X2_set\n",
    "\n",
    "# (a)\n",
    "w = 0.25\n",
    "superiority = 3\n",
    "x1, x2, duration, X1, X2 = simulate_combat(w, superiority)\n",
    "\n",
    "if x1 < x2:\n",
    "    winner = \"Red\"\n",
    "else:\n",
    "    winner = \"Blue\"\n",
    "\n",
    "print(f\"The winner is {winner} side.\")\n",
    "print(f\"The battle duration is {duration} days.\")\n",
    "print(f\"The number of divisions remaining on the winning side: {x1 if winner == 'Blue' else x2}\")\n",
    "\n",
    "plt.scatter(X1, X2)\n",
    "plt.xlim(0, 5)  # Set the x-axis limits\n",
    "plt.ylim(0, 2)  # Set the y-axis limits\n",
    "plt.xlabel('Blue')\n",
    "plt.ylabel('Red')\n",
    "plt.show()\n",
    "\n",
    "print('------------------------------')\n",
    "\n",
    "# (b)\n",
    "weather_conditions = [0.1, 0.2, 0.5, 0.75, 0.9]\n",
    "superiority = 3\n",
    "\n",
    "results = []\n",
    "\n",
    "for w in weather_conditions:\n",
    "    x1, x2, duration, X1, X2 = simulate_combat(w, superiority)\n",
    "    if x1 < x2:\n",
    "        winner = \"Red\"\n",
    "    else:\n",
    "        winner = \"Blue\"\n",
    "    results.append((w, winner, duration, x1 if winner == 'Blue' else x2))\n",
    "\n",
    "print(\"Results:\")\n",
    "print(\"Weather\\t\\tWinner\\t\\tDuration\\tDivisions on Winning Side\")\n",
    "for result in results:\n",
    "    print(f\"{result[0]}\\t\\t{result[1]}\\t\\t{result[2]}\\t\\t{result[3]}\")\n",
    "print('-------------------------------')\n",
    "# (c) and (d)\n",
    "superiority_values = [1.5, 2.0, 4.0, 5.0]\n",
    "\n",
    "print(\"\\nSensitivity Analysis:\")\n",
    "print(\"Superiority\\t\\tWeather\\t\\tWinner\\t\\tDuration\\tDivisions on Winning Side\")\n",
    "for superiority in superiority_values:\n",
    "    for result in results:\n",
    "        w = result[0]\n",
    "        x1, x2, duration, X1, X2 = simulate_combat(w, superiority)\n",
    "        if x1 > x2:\n",
    "            winner = \"Blue\"\n",
    "        else:\n",
    "            winner = \"Red\"\n",
    "        print(f\"{superiority}\\t\\t\\t{w}\\t\\t{winner}\\t\\t{duration}\\t\\t{x1 if winner == 'Blue' else x2}\")\n"
   ]
  },
  {
   "cell_type": "code",
   "execution_count": null,
   "id": "753653d7",
   "metadata": {},
   "outputs": [],
   "source": []
  }
 ],
 "metadata": {
  "kernelspec": {
   "display_name": "Python 3 (ipykernel)",
   "language": "python",
   "name": "python3"
  },
  "language_info": {
   "codemirror_mode": {
    "name": "ipython",
    "version": 3
   },
   "file_extension": ".py",
   "mimetype": "text/x-python",
   "name": "python",
   "nbconvert_exporter": "python",
   "pygments_lexer": "ipython3",
   "version": "3.10.10"
  }
 },
 "nbformat": 4,
 "nbformat_minor": 5
}
