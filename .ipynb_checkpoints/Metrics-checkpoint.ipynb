{
 "cells": [
  {
   "cell_type": "markdown",
   "id": "27845b5a",
   "metadata": {},
   "source": [
    "# PSI"
   ]
  },
  {
   "cell_type": "code",
   "execution_count": 1,
   "id": "5756f5ff",
   "metadata": {},
   "outputs": [],
   "source": [
    "import numpy as np\n",
    "import pandas as pd\n",
    "from sklearn.utils import resample\n",
    "from sklearn.preprocessing import KBinsDiscretizer\n",
    "\n",
    "def psi(expected, actual, bins):\n",
    "    # Use KBinsDiscretizer to create bins for expected and actual values\n",
    "    discretizer = KBinsDiscretizer(n_bins=bins, encode='ordinal', strategy='uniform')\n",
    "    expected_bins = discretizer.fit_transform(expected.reshape(-1, 1))\n",
    "    actual_bins = discretizer.transform(actual.reshape(-1, 1))\n",
    "    \n",
    "    # Calculate the percentage of observations in each bin for expected and actual\n",
    "    expected_perc = pd.value_counts(expected_bins.flatten(), normalize=True).sort_index().values\n",
    "    actual_perc = pd.value_counts(actual_bins.flatten(), normalize=True).sort_index().values\n",
    "    \n",
    "    # Calculate the PSI value\n",
    "    psi = sum((actual_perc[i] - expected_perc[i]) * np.log(actual_perc[i] / expected_perc[i]) for i in range(len(expected_perc)))\n",
    "    \n",
    "    return psi\n",
    "\n"
   ]
  },
  {
   "cell_type": "code",
   "execution_count": null,
   "id": "57364ade",
   "metadata": {},
   "outputs": [],
   "source": []
  }
 ],
 "metadata": {
  "kernelspec": {
   "display_name": "Python 3 (ipykernel)",
   "language": "python",
   "name": "python3"
  },
  "language_info": {
   "codemirror_mode": {
    "name": "ipython",
    "version": 3
   },
   "file_extension": ".py",
   "mimetype": "text/x-python",
   "name": "python",
   "nbconvert_exporter": "python",
   "pygments_lexer": "ipython3",
   "version": "3.10.10"
  }
 },
 "nbformat": 4,
 "nbformat_minor": 5
}
